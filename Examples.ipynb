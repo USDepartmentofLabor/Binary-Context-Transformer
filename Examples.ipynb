{
 "cells": [
  {
   "cell_type": "markdown",
   "metadata": {},
   "source": [
    "# BinaryContextTransformer Examples"
   ]
  },
  {
   "cell_type": "code",
   "execution_count": 1,
   "metadata": {
    "collapsed": true
   },
   "outputs": [],
   "source": [
    "import pandas as pd\n",
    "import numpy as np\n",
    "import scipy as sp\n",
    "from sklearn.feature_extraction.text import CountVectorizer\n",
    "from binarycontexttransformer import BinaryContextTransformer"
   ]
  },
  {
   "cell_type": "code",
   "execution_count": 2,
   "metadata": {},
   "outputs": [
    {
     "data": {
      "text/html": [
       "<div>\n",
       "<style scoped>\n",
       "    .dataframe tbody tr th:only-of-type {\n",
       "        vertical-align: middle;\n",
       "    }\n",
       "\n",
       "    .dataframe tbody tr th {\n",
       "        vertical-align: top;\n",
       "    }\n",
       "\n",
       "    .dataframe thead th {\n",
       "        text-align: right;\n",
       "    }\n",
       "</style>\n",
       "<table border=\"1\" class=\"dataframe\">\n",
       "  <thead>\n",
       "    <tr style=\"text-align: right;\">\n",
       "      <th></th>\n",
       "      <th>type</th>\n",
       "      <th>message</th>\n",
       "    </tr>\n",
       "  </thead>\n",
       "  <tbody>\n",
       "    <tr>\n",
       "      <th>0</th>\n",
       "      <td>text</td>\n",
       "      <td>text me if ur doing anything 2nite</td>\n",
       "    </tr>\n",
       "    <tr>\n",
       "      <th>1</th>\n",
       "      <td>tweet</td>\n",
       "      <td>Holla! Anyone doing anything tonight?</td>\n",
       "    </tr>\n",
       "    <tr>\n",
       "      <th>2</th>\n",
       "      <td>email</td>\n",
       "      <td>Sent you a text. What are you doing tonight?</td>\n",
       "    </tr>\n",
       "  </tbody>\n",
       "</table>\n",
       "</div>"
      ],
      "text/plain": [
       "    type                                       message\n",
       "0   text            text me if ur doing anything 2nite\n",
       "1  tweet         Holla! Anyone doing anything tonight?\n",
       "2  email  Sent you a text. What are you doing tonight?"
      ]
     },
     "execution_count": 2,
     "metadata": {},
     "output_type": "execute_result"
    }
   ],
   "source": [
    "data = [\n",
    "    (\"text\", \"text me if ur doing anything 2nite\"),\n",
    "    (\"tweet\", \"Holla! Anyone doing anything tonight?\"),\n",
    "    (\"email\", \"Sent you a text. What are you doing tonight?\")\n",
    "]\n",
    "df = pd.DataFrame(data, columns=[\"type\", \"message\"])\n",
    "df"
   ]
  },
  {
   "cell_type": "code",
   "execution_count": 3,
   "metadata": {
    "collapsed": true
   },
   "outputs": [],
   "source": [
    "vzr_type = CountVectorizer(analyzer=\"word\", binary=True)\n",
    "X_type = vzr_type.fit_transform(df[\"type\"])\n",
    "vzr_msg = CountVectorizer(analyzer=\"word\", binary=True)\n",
    "X_msg = vzr_msg.fit_transform(df[\"message\"])"
   ]
  },
  {
   "cell_type": "code",
   "execution_count": 4,
   "metadata": {},
   "outputs": [
    {
     "data": {
      "text/plain": [
       "matrix([[0, 1, 0, 1, 0, 1, 0, 1, 0, 1, 1, 0, 1, 0, 1, 0, 0],\n",
       "        [0, 0, 1, 0, 1, 1, 0, 1, 1, 0, 0, 0, 0, 1, 0, 0, 0],\n",
       "        [1, 0, 0, 0, 0, 0, 1, 1, 0, 0, 0, 1, 1, 1, 0, 1, 1]], dtype=int64)"
      ]
     },
     "execution_count": 4,
     "metadata": {},
     "output_type": "execute_result"
    }
   ],
   "source": [
    "X_all = sp.sparse.hstack([X_type, X_msg])\n",
    "X_all.todense()"
   ]
  },
  {
   "cell_type": "code",
   "execution_count": 5,
   "metadata": {},
   "outputs": [
    {
     "name": "stdout",
     "output_type": "stream",
     "text": [
      "Help on class BinaryContextTransformer in module binarycontexttransformer:\n",
      "\n",
      "class BinaryContextTransformer(sklearn.base.TransformerMixin)\n",
      " |  Expands base features into interaction terms when they appear with\n",
      " |  different context features. Both base features and context features\n",
      " |  must be binary.\n",
      " |  \n",
      " |  Method resolution order:\n",
      " |      BinaryContextTransformer\n",
      " |      sklearn.base.TransformerMixin\n",
      " |      builtins.object\n",
      " |  \n",
      " |  Methods defined here:\n",
      " |  \n",
      " |  __init__(self, features, contexts, progress=None)\n",
      " |      Args:\n",
      " |          features: names of base features\n",
      " |          contexts: names of context features\n",
      " |          progress: function of format progress_fn(iter, total) that takes\n",
      " |              an iterable and an integer with the total number of items and\n",
      " |              returns a generator to track progress at each step of the\n",
      " |              iterable (default=None)\n",
      " |  \n",
      " |  fit(self, X, X_context)\n",
      " |      Args:\n",
      " |          X: matrix of base feature columns\n",
      " |          X_context: matrix of context feature columns\n",
      " |  \n",
      " |  fit_transform(self, X, X_context)\n",
      " |      Args:\n",
      " |          X: matrix of base feature columns\n",
      " |          X_context: matrix of context feature columns\n",
      " |  \n",
      " |  get_feature_names(self)\n",
      " |      Returns a list of feature names corresponding to column indices.\n",
      " |  \n",
      " |  transform(self, X, X_context)\n",
      " |      Args:\n",
      " |          X: matrix of base feature columns\n",
      " |          X_context: matrix of context feature columns\n",
      " |  \n",
      " |  ----------------------------------------------------------------------\n",
      " |  Data descriptors inherited from sklearn.base.TransformerMixin:\n",
      " |  \n",
      " |  __dict__\n",
      " |      dictionary for instance variables (if defined)\n",
      " |  \n",
      " |  __weakref__\n",
      " |      list of weak references to the object (if defined)\n",
      "\n"
     ]
    }
   ],
   "source": [
    "help(BinaryContextTransformer)"
   ]
  },
  {
   "cell_type": "code",
   "execution_count": 6,
   "metadata": {
    "collapsed": true
   },
   "outputs": [],
   "source": [
    "import time\n",
    "\n",
    "\n",
    "def progress_bar(iter, total):\n",
    "    start = time.time()\n",
    "    for i, v in enumerate(iter):\n",
    "        print(\"{}/{}\".format(i, total))\n",
    "        yield v\n",
    "    dur = time.time() - start\n",
    "    print(\"Ran {} iterations in {:.1f} secs.\".format(total, dur))"
   ]
  },
  {
   "cell_type": "code",
   "execution_count": 7,
   "metadata": {},
   "outputs": [
    {
     "name": "stdout",
     "output_type": "stream",
     "text": [
      "0/3\n",
      "1/3\n",
      "2/3\n",
      "Ran 3 iterations in 0.0 secs.\n",
      "0/4\n",
      "1/4\n",
      "2/4\n",
      "3/4\n",
      "Ran 4 iterations in 0.0 secs.\n",
      "0/3\n",
      "1/3\n",
      "2/3\n",
      "Ran 3 iterations in 0.0 secs.\n"
     ]
    }
   ],
   "source": [
    "bct = BinaryContextTransformer(\n",
    "    features=vzr_msg.get_feature_names(),\n",
    "    contexts=vzr_type.get_feature_names(),\n",
    "    progress=progress_bar\n",
    ")\n",
    "X_msg_type = bct.fit_transform(X_msg, X_type)"
   ]
  },
  {
   "cell_type": "code",
   "execution_count": 8,
   "metadata": {},
   "outputs": [
    {
     "name": "stdout",
     "output_type": "stream",
     "text": [
      "N: Number of Records = 3\n",
      "M: Number of Records = 3\n",
      "F: Number of Records = 14\n",
      "S: Sparsity = 0.524\n",
      "Maximum Interactions = 42\n",
      "Possible Interactions = 19\n",
      "Actual Interactions = 9\n"
     ]
    }
   ],
   "source": [
    "N = len(data)\n",
    "M = len(vzr_type.get_feature_names())\n",
    "F = len(vzr_msg.get_feature_names())\n",
    "n_possible = X_msg.sum()\n",
    "n_actual = len(bct.get_feature_names())\n",
    "print(\"N: Number of Records = {}\".format(N))\n",
    "print(\"M: Number of Records = {}\".format(M))\n",
    "print(\"F: Number of Records = {}\".format(F))\n",
    "print(\"S: Sparsity = {:.3f}\".format(X_all.sum() / (M * F)))\n",
    "print(\"Maximum Interactions = {}\".format(M * F))\n",
    "print(\"Possible Interactions = {}\".format(n_possible))\n",
    "print(\"Actual Interactions = {}\".format(n_actual))"
   ]
  },
  {
   "cell_type": "code",
   "execution_count": 9,
   "metadata": {},
   "outputs": [
    {
     "name": "stdout",
     "output_type": "stream",
     "text": [
      "[[1 0 0 1 0 0 1 0 0]\n",
      " [0 1 0 0 1 0 0 0 1]\n",
      " [0 0 1 0 0 1 0 1 0]]\n"
     ]
    }
   ],
   "source": [
    "print(X_msg_type.todense())"
   ]
  },
  {
   "cell_type": "code",
   "execution_count": 10,
   "metadata": {},
   "outputs": [
    {
     "data": {
      "text/plain": [
       "['text_x_anything',\n",
       " 'tweet_x_anything',\n",
       " 'email_x_doing',\n",
       " 'text_x_doing',\n",
       " 'tweet_x_doing',\n",
       " 'email_x_text',\n",
       " 'text_x_text',\n",
       " 'email_x_tonight',\n",
       " 'tweet_x_tonight']"
      ]
     },
     "execution_count": 10,
     "metadata": {},
     "output_type": "execute_result"
    }
   ],
   "source": [
    "bct.get_feature_names()"
   ]
  },
  {
   "cell_type": "code",
   "execution_count": 11,
   "metadata": {},
   "outputs": [
    {
     "data": {
      "text/plain": [
       "[(1, 2), (2, 2), (0, 4), (1, 4), (2, 4), (0, 9), (1, 9), (0, 10), (2, 10)]"
      ]
     },
     "execution_count": 11,
     "metadata": {},
     "output_type": "execute_result"
    }
   ],
   "source": [
    "bct.col_pairs"
   ]
  },
  {
   "cell_type": "code",
   "execution_count": 12,
   "metadata": {},
   "outputs": [
    {
     "name": "stdout",
     "output_type": "stream",
     "text": [
      "text x anything\n",
      "tweet x anything\n",
      "email x doing\n",
      "text x doing\n",
      "tweet x doing\n",
      "email x text\n",
      "text x text\n",
      "email x tonight\n",
      "tweet x tonight\n"
     ]
    }
   ],
   "source": [
    "msg_features = vzr_msg.get_feature_names()\n",
    "type_features = vzr_type.get_feature_names()\n",
    "for c, f in bct.col_pairs:\n",
    "    print(\"{} x {}\".format(type_features[c], msg_features[f]))"
   ]
  },
  {
   "cell_type": "code",
   "execution_count": 13,
   "metadata": {},
   "outputs": [
    {
     "data": {
      "text/plain": [
       "{'email_x_doing': 2,\n",
       " 'email_x_text': 5,\n",
       " 'email_x_tonight': 7,\n",
       " 'text_x_anything': 0,\n",
       " 'text_x_doing': 3,\n",
       " 'text_x_text': 6,\n",
       " 'tweet_x_anything': 1,\n",
       " 'tweet_x_doing': 4,\n",
       " 'tweet_x_tonight': 8}"
      ]
     },
     "execution_count": 13,
     "metadata": {},
     "output_type": "execute_result"
    }
   ],
   "source": [
    "bct.vocabulary"
   ]
  }
 ],
 "metadata": {
  "kernelspec": {
   "display_name": "Python 3",
   "language": "python",
   "name": "python3"
  },
  "language_info": {
   "codemirror_mode": {
    "name": "ipython",
    "version": 3
   },
   "file_extension": ".py",
   "mimetype": "text/x-python",
   "name": "python",
   "nbconvert_exporter": "python",
   "pygments_lexer": "ipython3",
   "version": "3.7.1"
  }
 },
 "nbformat": 4,
 "nbformat_minor": 2
}
